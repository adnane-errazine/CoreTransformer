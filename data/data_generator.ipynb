{
 "cells": [
  {
   "cell_type": "code",
   "execution_count": 2,
   "metadata": {},
   "outputs": [],
   "source": [
    "# generate a list of tokens and their embeddings\n",
    "# vocabulary size"
   ]
  },
  {
   "cell_type": "code",
   "execution_count": 3,
   "metadata": {},
   "outputs": [],
   "source": [
    "from gensim.models import KeyedVectors\n",
    "model_word2v_google=KeyedVectors.load_word2vec_format(\"GoogleNews-vectors-negative300.bin\", binary=True)\n"
   ]
  },
  {
   "cell_type": "code",
   "execution_count": 4,
   "metadata": {},
   "outputs": [],
   "source": [
    "vocab_size = 4000\n",
    "embedding_dim = 20\n",
    "\n",
    "\n",
    "def ndarray_to_string(array):\n",
    "    return \",\".join([str(x) for x in array])\n",
    "\n",
    "# generate csv file with word and embedding\n",
    "with open(\"word_embedding.csv\", \"w\") as f:\n",
    "    for index, word in enumerate(model_word2v_google.index_to_key):\n",
    "        if index == vocab_size:\n",
    "            break\n",
    "        ndarray_dims= model_word2v_google[word][:embedding_dim]\n",
    "        str_vals=ndarray_to_string(model_word2v_google[word][:embedding_dim])\n",
    "        f.write(f\"{word}, {str_vals}\\n\")"
   ]
  }
 ],
 "metadata": {
  "kernelspec": {
   "display_name": "Python 3",
   "language": "python",
   "name": "python3"
  },
  "language_info": {
   "codemirror_mode": {
    "name": "ipython",
    "version": 3
   },
   "file_extension": ".py",
   "mimetype": "text/x-python",
   "name": "python",
   "nbconvert_exporter": "python",
   "pygments_lexer": "ipython3",
   "version": "3.12.2"
  }
 },
 "nbformat": 4,
 "nbformat_minor": 2
}
