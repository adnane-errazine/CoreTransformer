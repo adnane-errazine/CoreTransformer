{
 "cells": [
  {
   "cell_type": "code",
   "execution_count": 3,
   "metadata": {},
   "outputs": [
    {
     "data": {
      "text/plain": [
       "\"\\nwith open('en-fr.csv',encoding='utf-8') as csvfile:\\n    reader = csv.reader(csvfile)\\n    for i in range(20):\\n        next(reader.split(','))\\n\""
      ]
     },
     "execution_count": 3,
     "metadata": {},
     "output_type": "execute_result"
    }
   ],
   "source": [
    "# read first 10 lines of the csv file\n",
    "\n",
    "\"\"\"\n",
    "with open('en-fr.csv',encoding='utf-8') as csvfile:\n",
    "    reader = csv.reader(csvfile)\n",
    "    for i in range(20):\n",
    "        next(reader.split(','))\n",
    "\"\"\""
   ]
  },
  {
   "cell_type": "code",
   "execution_count": 65,
   "metadata": {},
   "outputs": [
    {
     "name": "stdout",
     "output_type": "stream",
     "text": [
      "0\n",
      "100000\n",
      "Total unique English words: 14145\n",
      "Total unique French words: 24517\n"
     ]
    }
   ],
   "source": [
    "# parse the whole csv file and store all unique english words in a set\n",
    "\n",
    "import csv\n",
    "import re\n",
    "\n",
    "split_pattern = r\"([\\$\\t,;:?.!'\\\"%-])\"\n",
    "\n",
    "unique_words_en = set()\n",
    "unique_words_fr= set()\n",
    "\n",
    "with open('eng_-french.csv', encoding='utf-8') as csvfile:\n",
    "    reader = csv.reader(csvfile)\n",
    "    for count,row in enumerate(reader):\n",
    "        row[0] = re.sub(split_pattern, r' \\1 ', row[0]).strip().lower()\n",
    "        row[1] = re.sub(split_pattern, r' \\1 ', row[1]).strip().lower()\n",
    "        for word in row[0].split():\n",
    "            unique_words_en.add(word)\n",
    "        for word in row[1].split():\n",
    "            unique_words_fr.add(word)\n",
    "        if count %100000==0 :\n",
    "            print(count) # print the count of rows processed    \n",
    "print(f\"Total unique English words: {len(unique_words_en)}\")\n",
    "print(f\"Total unique French words: {len(unique_words_fr)}\")"
   ]
  },
  {
   "cell_type": "code",
   "execution_count": 66,
   "metadata": {},
   "outputs": [],
   "source": [
    "# save the file english tokens to disk\n",
    "with open('unique_words_en.txt', 'w', encoding='utf-8') as f:\n",
    "    for word in unique_words_en:\n",
    "        f.write(word + '\\n')\n",
    "\n",
    "# save the file french tokens to disk\n",
    "with open('unique_words_fr.txt', 'w', encoding='utf-8') as f:\n",
    "    for word in unique_words_fr:\n",
    "        f.write(word + '\\n')"
   ]
  },
  {
   "cell_type": "code",
   "execution_count": 56,
   "metadata": {},
   "outputs": [
    {
     "name": "stderr",
     "output_type": "stream",
     "text": [
      "c:\\Users\\Ad\\AppData\\Local\\Programs\\Python\\Python312\\Lib\\site-packages\\tqdm\\auto.py:21: TqdmWarning: IProgress not found. Please update jupyter and ipywidgets. See https://ipywidgets.readthedocs.io/en/stable/user_install.html\n",
      "  from .autonotebook import tqdm as notebook_tqdm\n"
     ]
    }
   ],
   "source": [
    "from transformers import AutoTokenizer\n",
    "tokenizer = AutoTokenizer.from_pretrained(\"gpt2\")"
   ]
  },
  {
   "cell_type": "code",
   "execution_count": 8,
   "metadata": {},
   "outputs": [
    {
     "name": "stdout",
     "output_type": "stream",
     "text": [
      "\n",
      "\n",
      "\n",
      "Tokens: ['ĠHe', 'll', 'o', 'Ġmy', 'Ġname', 'Ġis', 'ĠA', 'd', 'n', 'an', 'e']\n",
      "Token IDs: [282, 148, 69, 343, 1567, 216, 263, 58, 68, 139, 59]\n",
      "Decoded sentence:  Hello my name is Adnane\n"
     ]
    }
   ],
   "source": [
    "from tokenizers import Tokenizer, models, pre_tokenizers, decoders, trainers, processors\n",
    "\n",
    "import csv\n",
    "# Step 1: Initialize the BPE Tokenizer\n",
    "tokenizer = Tokenizer(models.BPE())  # Using Byte Pair Encoding (BPE) model\n",
    "\n",
    "# Step 2: Pre-tokenization and special tokens handling\n",
    "tokenizer.pre_tokenizer = pre_tokenizers.ByteLevel() # Split by spaces\n",
    "\n",
    "# Step 3: Setup decoder to decode tokens back to text\n",
    "tokenizer.decoder = decoders.ByteLevel()\n",
    "\n",
    "# Convert dataset into a list of file-like objects for the trainer\n",
    "with open('eng_-french.csv','r', encoding='utf-8') as csvfile:\n",
    "    reader = csv.reader(csvfile)\n",
    "    for count,row in enumerate(reader):\n",
    "        with open(\"sentences_en.txt\", \"a\", encoding='utf-8') as f1:\n",
    "            f1.write(row[0] + \"\\n\")\n",
    "        with open(\"sentences_fr.txt\", \"a\", encoding='utf-8') as f2:\n",
    "            f2.write(row[1] + \"\\n\")\n",
    "\n",
    "\n",
    "#Step 5: Setup the BPE Trainer\n",
    "trainer = trainers.BpeTrainer(\n",
    "    vocab_size=3000,  # You can set the vocabulary size\n",
    "    min_frequency=2,  # Minimum frequency of tokens to be included in vocab\n",
    "    special_tokens=[\n",
    "        \"[BOS]\",  # Beginning of sequence\n",
    "        \"[EOS]\",  # End of sequence\n",
    "        \"[PAD]\",  # Padding\n",
    "    ]\n",
    ")\n",
    "\n",
    "# Step 6: Train the tokenizer on the dataset\n",
    "tokenizer.train(files=[\"sentences_en.txt\",\"sentences_fr.txt\"], trainer=trainer)\n",
    "\n",
    "# Step 7: Test the tokenizer\n",
    "encoded_output = tokenizer.encode(\"Hello my name is Adnane\")\n",
    "print(f\"Tokens: {encoded_output.tokens}\")\n",
    "print(f\"Token IDs: {encoded_output.ids}\")\n",
    "\n",
    "# Step 8: Decode back the tokens into the original sentence\n",
    "decoded_output = tokenizer.decode(encoded_output.ids)\n",
    "print(f\"Decoded sentence: {decoded_output}\")\n",
    "\n",
    "# Step 9: Save the tokenizer to a file (for future use)\n",
    "tokenizer.save(\"bpe_tokenizer.json\")\n"
   ]
  },
  {
   "cell_type": "code",
   "execution_count": 4,
   "metadata": {},
   "outputs": [
    {
     "name": "stdout",
     "output_type": "stream",
     "text": [
      "Tokens: ['He', 'll', 'o', 'my', 'name', 'is', 'A', 'd', 'n', 'an', 'e']\n",
      "Token IDs: [254, 158, 73, 309, 1416, 131, 33, 62, 72, 129, 63]\n",
      "Decoded sentence: HellomynameisAdnane\n"
     ]
    }
   ],
   "source": [
    "# Step 7: Test the tokenizer\n",
    "encoded_output = tokenizer.encode(\"Hello my name is Adnane\")\n",
    "print(f\"Tokens: {encoded_output.tokens}\")\n",
    "print(f\"Token IDs: {encoded_output.ids}\")\n",
    "\n",
    "# Step 8: Decode back the tokens into the original sentence\n",
    "decoded_output = tokenizer.decode(encoded_output.ids)\n",
    "print(f\"Decoded sentence: {decoded_output}\")\n",
    "\n",
    "# Step 9: Save the tokenizer to a file (for future use)\n",
    "tokenizer.save(\"bpe_tokenizer.json\")"
   ]
  },
  {
   "cell_type": "code",
   "execution_count": 8,
   "metadata": {},
   "outputs": [
    {
     "name": "stdout",
     "output_type": "stream",
     "text": [
      "dict_keys(['or', 'prof', 'say', 'sol', 'soon', 'termin', 'ut', 'professeur', 'ence', 'right', 'while', 'midi', 'che', 'v', 'poli', 'prison', 'ake', 'roit', 'partie', 'hô', 'amie', 'alk', 'iture', 'père', 'pass', 'ic', 'uit', 'danger', 'Pen', 'hier', 'déjà', 'erreur', 'journ', 'neig', 'sant', 'Regar', '6', 'jam', 'pend', 'cri', 'ure', 'contre', 'where', 'If', 'espère', 'peuvent', 'inte', 'drai', 'ill', 'as', 'bras', 'ally', 'faim', 'pos', 'avons', 'saw', 'situation', '’', 'se', 'rester', 'out', 'tant', '2', 'ped', 'hap', 'good', 'sister', 'Where', 'isn', 'suc', 'ried', 'travaille', 'dents', 'f', 'este', 'elles', 'don', 'travai', '[SEP]', 'endroit', 'même', 'restaur', 'inté', 'lear', 'ir', 'w', 'Si', 'all', 'sleep', 'gla', 'plus', 'fenêtre', 'Elles', 'pian', 'aimer', 'give', 'sortir', 'pays', 'adore', 'ét', 'U', 'table', 'maison', 'eux', 'compte', 'difficile', 'Ces', 'tout', 'cen', 'ue', 'posé', 'comprendre', 'ni', 'nat', 'secret', 'enten', 'u', 'ille', 'sois', 'bout', 'fore', 'understand', 'agit', 'T', 'déteste', 'fin', 'pom', 'secon', 'cs', 'arm', 'hel', 'ak', 'rencontr', 'better', 'ine', 'est', 'sem', 'Une', 'mi', 'pr', 'sour', 'didn', 'ville', 'sto', '₂', 'déjeun', 'st', 'vers', 'bor', 'devez', 'fen', 'ù', 'sin', 'sau', 'ide', 'école', 'â', 'like', 'è', 'can', '\\xad', 'suppose', 'cela', 'tru', 'cul', 'col', 'mind', 'Pouvez', 'yourself', 'anyone', 'under', 'colère', 'Mon', 'six', 'souvent', 'tal', 'garçon', 'ustr', 'arrive', 'fil', 'long', 'stop', 'plaît', 'sy', 'hed', 'study', '…', 'win', 'why', 'contin', 'lles', 'need', 'mb', 'pic', 'wn', 'mieux', 'derni', 'Comment', 'attendre', 'Veux', 'without', 'z', 'of', '$', 'impression', 'enne', 'produ', 'took', 'ég', 'down', 'in', 'amis', 'gi', 'his', 'près', 'sou', 'vant', 'aite', 'écrit', 'air', 'dernier', 'dy', 'ant', 'préfé', 'Qui', '/', 'n', 'petit', 'belle', 'cause', 'tea', 'Votre', 'voudrais', 'morning', 'ye', 'mom', 'ats', 'déjeuner', 'ient', 'verre', 'ad', 'savoir', 'ep', 'fa', 'h', 'plait', 'ild', 'Elle', 'professe', 'ités', 'ment', 'rou', 'leurs', 'question', 'asked', 'ive', 'should', 'réussi', 'yesterday', 'pu', 'sonne', 'ite', 'parlé', 'dollars', 'hand', 'devriez', 'condu', 'em', 'tellement', 'ouvez', 'jour', 'y', 'thought', 'nez', 'bure', '8', 'solé', 'tôt', 'amment', 'envie', 'ning', 'ç', 'has', 'Pour', 'Voulez', 'lire', 'ande', 'eu', 'talk', 'gu', 'rent', 'chanter', 'hour', 'bus', 'pre', 'prendre', 'qu', 'exactement', 'doesn', 'passer', 'quand', 'seen', 'sujet', 'tez', 'Ô', 'va', 'matin', 'attend', 'know', 'accor', 'ten', 'rir', 'ouve', 'Êtes', 'well', 'must', 'asse', 'doit', 'ese', 'Ce', 'questions', 'ation', 'occupé', 'Every', 'cons', 'after', 'iez', 'médi', 'reg', 'into', 'couldn', 'sens', 'ante', 'mother', 'éco', 'cent', 'Peux', 'vieux', 'mo', 'dire', 'allons', 'dri', 'perdu', 'rest', 'veux', 'équi', 'Dis', 'com', 'rappe', 'és', 'histoi', 'ished', 'Les', 'ique', 'voulais', 'ôt', 'A', 'oubl', 'C', 'par', ';', 'indre', 'wr', 'b', 'four', 'pri', 'cour', 'mour', 'ères', 'dis', 'bou', 'feu', 'cert', 'idée', 'haven', 'contr', 'crois', 'vois', 'ard', 'heureux', 'riez', 'ré', 'beau', 'enfant', 'nu', 'demander', 'J', 'too', 'X', 'art', 'ies', 'li', 'tre', 'chien', 'yez', \"'\", 'fon', 'plu', 'wait', 'ac', 'They', 'ême', 'off', 'chez', 'fais', 'ge', 'did', 'appe', 'ess', 'ft', 'the', 'vit', 'assis', 'children', 'auparavant', 'every', 'idea', '&', 'ie', 'dessus', 'important', 'dio', 'mil', 'mp', 'F', 'voul', '‘', 'Laissez', 'ary', 'année', 'conn', 'face', 'leave', 'livres', 'nager', 'o', 'pense', 'Ils', 'expli', 'buy', 'yer', 'yet', 'pendant', 'walk', 'found', 'bes', 'ense', 'ston', 'ber', 'chaque', 'hear', 'journal', 'led', 'row', 'Est', 'ieux', 'bles', 'porter', 'trouve', 'çu', 'fer', 'fu', 'habitude', 'lig', 'entre', 'something', 'sel', 'have', 'nuit', 'fort', 'hate', 'help', 'accident', 'Un', 'certain', '\"', 'enough', 'ver', 'wasn', 'Is', 'confiance', 'cuis', 'vent', 'ain', 'ers', 'premier', 'sion', 'eas', 'Some', 'years', 'R', 'ensemble', 'fille', 'réponse', 'toutes', 'entôt', 'mé', 'sat', 'erai', 'Marie', 'aur', 'rencontrer', 'gros', 'S', 'idé', 'ded', 'essayé', 'matter', 'My', 'reux', 'talking', 'chan', 'ready', 'voiture', 'di', 'ière', 'avais', 'affaire', 'ful', 'ures', 'arr', 'At', 'en', 'malade', 'op', 'swim', 'jours', 'arriver', 'ave', 'nos', 'wim', 'any', 'bad', 'blessé', 'thé', 'étu', 'show', 'child', 'uni', 'belie', 'soir', 'ase', 'igu', ':', 'H', 'semaine', 'illes', 'uses', 'door', 'act', 'sœur', 'ough', 'fils', 'ra', 'vue', 'our', 'Tom', 'aurait', 'everything', 'friend', 'voulez', 'vrai', 'temps', 'cie', 'ven', 'your', 'place', 'All', 'I', 'quelqu', 've', 'tard', 'î', 'ly', 'avez', 'hom', 'ous', 'deux', 'we', 'ef', 'а', 'Th', 'bre', 'take', 'bl', 'simplement', 'moins', 'café', 'how', 'ted', 'travail', 'suis', 'bureau', 'facile', 'lez', 'great', 'lui', 'mor', 'drink', 'hors', 'ci', 'As', 'doll', 'lorsque', 'gen', 'frien', 'Ê', 'His', 'heure', 'rapide', 'cont', 'gre', 'besoin', 'Au', 'please', 'allé', 'inter', 'été', 'laisser', 'pat', 'pois', 'py', 'will', 'venu', 'connais', 'Ap', 'aper', 'content', 'Il', 'az', 'pée', 'tent', 'aimerais', '«', 'immédi', 'comp', 'O', 'mais', 're', 'wanted', 'sis', 'was', 'fois', 'argent', 'llement', 'homme', 'dou', 'mus', 'bo', 'apprendre', 'police', 'sure', 'fun', 'Ç', 'plutôt', 'The', 'coû', 'tenant', 'û', 'went', 'parents', 'hav', 'wor', 'arrivé', 'devr', 'pare', 'often', 'q', 'plan', 'pec', 'vélo', 'penses', 'party', 'ok', 'this', 'get', 'It', 'diffé', 'ed', 'boy', 'What', 'same', 'é', 'ot', 'coun', 'des', 'gr', 'is', 'person', 'ach', 'people', 'pla', 'die', 'Où', 'lis', 'ssi', 'tous', 'ien', 'big', 'spe', 'être', 'minutes', 'very', 'peur', 'wish', 'iner', 'met', 'nombre', 'ble', 'had', 'ère', 'gg', 'uis', 'cold', 'keep', 'acheter', 'jusqu', 'aussi', 'on', 'left', 'dé', 'lé', 'sent', 'sk', 'cy', 'quelque', 'meet', 'happen', 'savais', 'vien', 'brother', 'lie', 'viens', 'prit', '!', 'lè', 'ît', 'wer', 'arrê', 'discut', 'ps', 'pièce', 'rée', '1', 'ouver', 'apprécie', 'inv', 'ains', 'cin', 'dent', 'curité', 'voy', 'nom', 'tr', 'trer', 'cer', 'ma', 'Z', 'bit', 'iser', 'réun', 'pé', 'Tu', 'aid', 'mal', 'gent', 'peux', 'aut', 'ages', '3', 'deman', 'bought', 'femme', 'Que', 'iller', 'play', 'proch', 'télé', 'hur', 'resse', 'fast', 'importe', 'suff', 'ute', 'than', 'cl', 'lieu', 'minute', 'sing', 'laissé', 'B', 'There', '[PAD]', 'liv', 'fit', 'dog', 'por', 'pital', 'pourrait', 'pas', 'you', 'hui', 'lun', 'ek', 'aurais', 'manger', 'tention', 'mari', 'who', 'Ne', 'décidé', 'see', 'won', 'Vou', 'º', 'peut', 'being', 'vas', 'gir', 'cus', 'visite', 'j', 'étais', 'isé', 'let', '+', 'fau', 'ff', 'éle', 'cet', 'ître', 'anger', 'cha', 'home', 'main', 'su', 'ta', '.', 'open', 'moment', 'remember', 'regar', 'arrêter', 'penser', 'serai', 'cas', 'mag', 'more', 'ë', 'Quel', 'mu', 'sui', 'pi', 'avait', 'illa', 'Cette', 'We', 'lost', 'girl', 'né', 'clé', 'res', 'exam', 'âge', 'life', 'Te', 'ce', 'bas', 'genre', 'èmes', 'puis', 'first', 'ris', 'po', 'ey', 'hu', 'aise', 'ds', 'dî', 'end', 'pré', 'ète', 'Could', 'cile', 'En', 'ord', 'last', 'Es', 'loin', 'ants', 'Tous', 'day', 'possible', 'ind', 'when', 'boire', 'im', 'clas', 'depuis', 'yo', 'hor', 'point', 'vis', 'éch', 'fatigué', 'bonne', 'ses', 'achet', 'réf', 'elle', 'er', 'imp', 'beaucoup', 'reme', 'put', 'ron', 'would', 'rite', 'ordin', 'want', 'book', 'only', 'vie', 'Tout', 'side', 'Who', 'mission', 'dr', 'petite', 'film', 'uf', 'lors', 'hat', 'prom', 'teau', 'jus', 'conduire', 'te', 'oi', 'choix', 'ri', 'ke', 'Re', 'dir', 'ites', 'ouse', 'avoir', 'king', 'part', 'bet', 'chambre', 'ets', 'proble', 'watch', 'Did', 'two', 'du', 'but', 'devrais', 'vision', '‽', 'Japon', 'pouvais', 'changer', 'ction', 'illé', 'Be', 'dont', 'nées', 'In', 'lait', 'L', 'mère', 'came', 'she', 'Laisse', 'Are', 'ferais', 'ght', 'mois', 'some', 'Ch', 'pit', 'ttes', 'èrent', 'êtes', 'jouer', 'orrow', 'coup', 'ur', 'gâ', 'regarder', 'anted', 'famille', 'Veuillez', 'ack', 'ée', 'car', 'hard', 'Cela', 'afr', 'lt', 'really', 'som', 'ions', 'Mar', 'parti', 'ê', 'dit', 'tir', 'attention', 'grand', 'teacher', 'ily', 'eau', 'jeune', 'ple', 'cô', 'mand', 'solée', '[UNK]', 'nourriture', 'time', 'tête', 'vou', 'meilleur', 'Per', 'peu', 'cor', 'ô', 'late', 'ding', 'able', 'pho', 'problème', 'cident', 'feel', 'nor', 'imag', 'away', 'partir', 'net', 'Par', 'room', 'habitu', 'aucun', 'vir', 'with', 'ches', 'Â', 'quoi', 'lit', 'ress', 'vérité', 'avant', 'W', 'anything', 'ont', 'différen', 'sal', 'aller', 'd', 'dû', 'oire', 'are', 'occu', 'La', 'ink', 'pourrais', 'emp', 'stand', 'used', 'jà', 'musique', 'sommes', 'again', 'acce', 'sans', 'utes', 'demande', 'ème', 'ux', 'ans', 'om', 'go', 'andon', 'ig', 'sh', 'hy', 'comme', 'vi', 'ouv', 'tle', 'ought', 'gue', 'fini', 'teur', 'wat', 'Combien', 'over', 'clo', 'aujourd', 'it', 'May', 'vais', 'aire', 'travailler', 'tenir', 'ch', 'told', '%', 'job', 'light', 'glad', 'jou', 'la', 'father', 'nis', 'crit', '(', 'ked', 'tour', 'payer', 'sur', 'son', 'xt', 'pen', 'Je', 'aim', 'i', 'joue', 'sor', 'call', 'nourr', 'Pourquoi', 'appré', 'cre', 'plut', 'nour', 'vol', 'drais', 'soyez', 'ture', 'ép', 'said', 'bla', 'hon', 'that', 'id', 'three', 'thing', 'vo', 'celui', 'glis', 'ú', 'cle', 'fat', 'jourd', 'house', 'Ét', 'Let', 'gave', 'journée', 'pourr', 'soit', 'puisse', 'rap', 'ust', 'ned', 'fran', 'ag', 'bon', 'days', 'diffi', 'sera', 'voir', 'plais', 'Can', '4', 'aide', 'essayer', 'probablement', 'mains', 'P', 'Your', 'Have', 'contrer', 'devoir', 'old', 'pa', 'water', 'ui', 'sec', 'qui', 'sont', 'ways', 'cette', 'yeux', 'ès', 'quel', 'oubli', 'V', ')', 'od', 'ow', 'us', 'ro', 'ting', 'pro', 'vos', 'ali', 'mat', 'nothing', 'there', 'ame', 'intéress', 'moi', 'choses', 'ché', 'Sa', 'ner', 'Ça', 'Please', 'erre', 'int', 'pe', 'ments', 'presque', 'souh', 'der', 'mau', 'ces', 'myself', 'probl', 'try', 'À', 'mis', 'ances', 'poser', 'boulot', 'vin', 'Quand', 'cut', 'enf', 'beg', 'lot', 'br', 'aille', 'encore', 'vez', 'angé', 'l', 'school', '€', 'Ar', 'core', 'k', 'chaus', 'rép', 'trouver', 'rez', 'ople', 'av', 'çon', 'autant', 'œur', 'ty', 'avantage', 'chau', 'ai', 'ars', 'et', 'parler', 'prêt', 'capable', 'ask', 'déci', 'ish', 'oun', 'dîner', 'hab', 'aucune', 'alors', 'pour', 'vac', 'alement', 'ree', 'bé', 'ennu', '0', 'attr', 'cap', 'love', 'venue', 'ire', 'still', 'English', 'vain', 'wrong', 'rer', '30', 'min', 'ould', 'tou', 'ank', 'by', 'aider', 'if', 'iste', 'souv', 'vous', 'cis', 'ving', 'ret', 'chat', 'grande', 'ab', 'donné', 'pouvoir', 'sait', 'That', 'écout', 'qué', 'las', 'rien', 'ici', 'Peut', 'ign', 'am', 'pouvons', 'tennis', 'auc', 'dix', 'ever', 'semble', 'ball', 'cu', 'ong', 'ther', 'cau', 'jamais', 'ton', 'inst', 'pie', '5', 'week', 'aine', 'retard', 'ées', 'um', 'wi', 'С', 'meille', 'passé', 'regard', 'ression', 'Why', 'fut', 'ju', 'tor', 'ale', 'cation', 'médecin', 'wed', 'vice', 'make', 'sp', 'Q', 'ex', 'alone', 'On', 'esse', 'oir', 'emploi', 'dehors', 'lat', 'après', 'na', 'stupi', 'écrire', 'ap', 'assez', 'sures', 'nouvelle', 'faire', 'lang', 'passe', 'll', 'stu', 'other', 'tri', 'ar', 'photo', 'el', 'lle', 'hi', 'ceci', 'red', 'tu', 'from', 'rê', 'de', 'ors', 'gens', 'ier', 'He', 'answer', 'else', 'toute', 'mangé', 'fe', 'quer', 'seule', '[CLS]', 'pect', 'ques', 'nous', 'fier', 'seu', 'man', 'téléphone', 'them', 'char', 'heures', 'ignore', 'going', 'mber', 'trouv', 'vivre', 'Le', 'next', 'train', 'a', 'accep', 'comment', 'already', 'mala', 'ort', 'ça', 'most', 'these', 'ou', 'cham', 'venir', 'fête', 'quelle', 'boul', 'mer', 'problem', 'prie', 'montre', '–', 'So', 'comprends', 'étr', 'trop', 'pay', 'infor', 'fr', 'prob', 'à', 'sit', 't', 'Would', 'serait', 'util', 'personnes', 'ct', 'an', 'ö', 'kes', 'trois', 'étudier', 'ête', 'live', 'dormir', 'nouveau', 'ze', 'fall', '-', 'entendu', 'porte', 'chool', 'sed', 'bois', 'cal', 'Puis', 'ils', 'Quelle', 'quit', 'anglais', 'prends', 'm', 'quelques', 'tired', 'tit', 'ion', 'pouvez', 'Austr', 'Ma', 'dét', 'esterday', 'vé', 'serais', 'enfants', 'lar', 'ol', 'rire', 'rête', 'senti', 'sup', 'their', 'ho', '—', 'propos', 'conque', 'igno', 'ise', 'ons', 'leur', 'ul', 'á', 'cou', 'cam', 'kind', 'How', 'un', 'Mary', 'When', 'nent', 'bar', 'eat', 'ing', 'simp', 'sons', 'p', 'dér', 'sûr', 'Arrête', 'run', 'ight', 'happy', 'compl', 'demandé', 'got', 'tom', 'her', 'cho', 'pt', 'autre', 'Don', 'lu', 'rends', 'reste', 'af', 'ois', 'ager', 'gh', 'vraiment', 'devrions', 'aux', 'doing', 'Boston', 'ter', 'much', 'votre', 'ainsi', 'vér', 'come', 'le', 'présent', 'rench', 'toujours', 'voyage', 'Ai', 'longtemps', 'mon', 'ti', 'bli', 'mit', 'M', 'lais', 'aime', 'erci', 'prochaine', 'ld', 'ent', 'vient', 'ca', 'méde', 'things', 'busy', 'Quelqu', 'gag', 'née', 'This', 'ié', 'iens', 'plain', 'raison', 'lettre', 'never', '7', 'ait', ',', 'chose', 'ity', '00', 'ay', 'probable', 'personne', 'sez', 'confi', 'té', 'satis', 'là', 'froi', 'dez', 's', 'doc', 'paren', 'faites', 'ail', 'ban', 'pain', 'ves', 'find', 'few', 'Bo', 'dans', 'heureuse', 'hope', 'name', 'tement', 'oublié', 'Fais', 'ance', 'fatigu', 'Englis', 'fo', 'ose', 'mir', 'knew', 'nouve', 'pris', 'pli', 'rain', 'read', 'th', 'sais', 'conse', 'É', 'ck', 'désolé', 'bien', 'Qu', 'dor', 'fonction', 'retour', 'be', 'happened', 'rom', 'juste', 'histoire', 'lo', 'ne', 'diction', 'tra', 'done', 'fi', 'oig', 'nécess', 'aie', 'tomorrow', 'K', 'Merci', 'g', 'étiez', 'import', 'donner', 'prê', 'self', 'fem', 'ssible', 'dur', 'Ple', 'oy', 'maintenant', 'Jap', 'one', 'sho', 'tite', 'ester', 'here', 'accord', 'aient', 'cier', 'may', 'star', 'conna', 'que', 'était', '\\u200b', 'seulement', 'français', 'mort', 'bro', 'seul', 'up', 'pose', 'sus', 'ath', 'sig', 'Com', 'étions', 'ais', 'cours', 'men', 'bientôt', 'devrait', 'cti', 'pl', 'ren', 'livre', 'my', 'change', 'believe', 'for', 'No', 'pensé', 'éc', 'ry', 'about', 'excus', 'entendre', 'je', 'ied', 'ser', 'new', 'dre', 'join', 'travaill', 'eut', 'fait', 'si', '9', 'où', 'at', 'ph', 'oin', 'jet', 'sé', 'notre', 'cheveux', 'r', 'ité', 'ref', 'paravant', 'continu', 'très', 'vu', 'Nous', 'rie', 'jeun', 'pru', 'afraid', 'itu', 'gar', 'phone', 'ru', 'were', 'faut', 'wo', 'mot', 'fam', 'Mes', 'dev', 'seem', 'ez', 'arri', 'appris', 'cé', '[MASK]', 'him', 'ition', 'voulait', 'resp', 'money', 'Y', 'sorry', 'he', 'been', 'intention', 'restaurant', 'toi', 'cur', 'per', 'work', 'D', 'tur', 'combien', 'chemin', 'demand', 'oul', 'êcher', 'sû', 'ami', 'demain', 'bat', 'mauvais', 'au', 'today', 'essay', 'tte', 'way', 'temp', 'sa', 'amus', 'look', 'vr', 'produit', 'do', 'pren', 'bed', 'mes', 'pres', 'ange', 'best', 'Do', 'dif', 'habit', 'quest', 'mar', 'no', 'davantage', 'cher', 'œ', 'al', 'répon', 'ts', 'ng', 'fou', 'dra', 'tes', 'frère', 'croire', 'con', 'allez', 'val', 'back', 'piè', 'ens', 'franç', 'tell', 'ate', 'gare', 'gé', 'think', 'ass', 'Japan', 'vite', 'illez', 'sage', 'trouvé', 'sûre', 'prix', 'tré', 'ear', 'French', 'cision', 'not', 'they', 'care', 'so', 'surpris', 'les', 'aires', 'ussi', 'Lais', 'oix', 'oc', 'e', 'ome', 'première', 'even', 'premi', 'always', 'cess', '»', 'ï', 'monde', 'Personne', 'cat', 'fas', 'il', 'parle', 'bag', 'réunion', 'leep', 'friends', 'agne', 'trav', 'cr', 'ob', 'E', 'nes', 'Vous', 'lement', 'situ', 'urs', 'non', 'tel', 'use', 'dois', 'str', 'ved', 'many', 'You', 'rais', 'vre', 'G', 'ateur', 'cro', 'côté', 'devons', 'does', 'acheté', 'ang', 'fir', 'De', 'body', 'ound', 'prend', 'sac', 'before', 'ler', 'étudi', 'bi', 'ins', 'little', 'heard', 'Avez', 'night', 'what', 'could', 'chance', 'es', 'mange', 'manière', 'fai', 'orte', 'chant', 'stay', 'avec', 'sembl', 'Son', 'publi', 'She', 'Veu', 'sous', 'ente', 'and', 'empl', 'froid', 'bu', 'looking', '?', 'pensais', 'dernière', 'now', 'pouv', 'une', 'étaient', 'exac', 'port', 'me', 'hen', 'fé', 'pourquoi', 'veut', 'x', 'made', 'age', 'Vo', 'N', 'c', 'mettre', 'atten', 'co', 'whi', 'speak', 'ado', 'rendre', 'ette', 'to', 'commen', 'autres', 'ger', 'just', 'ros'])\n"
     ]
    }
   ],
   "source": [
    "# Load the tokenizer from the saved file\n",
    "loaded_tokenizer = Tokenizer.from_file(\"bpe_tokenizer.json\")\n",
    "\n",
    "# Print all the tokens in the tokenizer\n",
    "print(loaded_tokenizer.get_vocab().keys())"
   ]
  }
 ],
 "metadata": {
  "kernelspec": {
   "display_name": "Python 3",
   "language": "python",
   "name": "python3"
  },
  "language_info": {
   "codemirror_mode": {
    "name": "ipython",
    "version": 3
   },
   "file_extension": ".py",
   "mimetype": "text/x-python",
   "name": "python",
   "nbconvert_exporter": "python",
   "pygments_lexer": "ipython3",
   "version": "3.10.12"
  }
 },
 "nbformat": 4,
 "nbformat_minor": 2
}
